{
 "cells": [
  {
   "cell_type": "code",
   "execution_count": 1,
   "metadata": {},
   "outputs": [
    {
     "name": "stdout",
     "output_type": "stream",
     "text": [
      "The list of squared numbers is: [16, 25, 4, 81]\n"
     ]
    }
   ],
   "source": [
    "def square_numbers(nums):\n",
    "\n",
    "  squared_nums = map(lambda x: x * x, nums)\n",
    "\n",
    "  return list(squared_nums)\n",
    "\n",
    "if __name__ == \"__main__\":\n",
    " \n",
    "  nums = [int(x) for x in input(\"Enter a list of numbers, separated by spaces: \").split(',')]\n",
    "\n",
    "  squared_nums = square_numbers(nums)\n",
    "\n",
    "  print(\"The list of squared numbers is:\", squared_nums)"
   ]
  }
 ],
 "metadata": {
  "kernelspec": {
   "display_name": "Python 3",
   "language": "python",
   "name": "python3"
  },
  "language_info": {
   "codemirror_mode": {
    "name": "ipython",
    "version": 3
   },
   "file_extension": ".py",
   "mimetype": "text/x-python",
   "name": "python",
   "nbconvert_exporter": "python",
   "pygments_lexer": "ipython3",
   "version": "3.11.4"
  },
  "orig_nbformat": 4
 },
 "nbformat": 4,
 "nbformat_minor": 2
}
